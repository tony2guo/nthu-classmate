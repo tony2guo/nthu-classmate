{
 "cells": [
  {
   "cell_type": "code",
   "execution_count": null,
   "id": "04c2466e",
   "metadata": {},
   "outputs": [],
   "source": [
    "from pathlib import Path\n",
    "\n",
    "import pandas as pd"
   ]
  },
  {
   "cell_type": "code",
   "execution_count": null,
   "id": "6d6df9d9",
   "metadata": {},
   "outputs": [],
   "source": [
    "path = Path(\"classmate\")\n",
    "courses = pd.read_csv(path / \"courses_parsed.csv\", encoding=\"utf-8\")\n",
    "courses"
   ]
  },
  {
   "cell_type": "code",
   "execution_count": null,
   "id": "2ca89259",
   "metadata": {},
   "outputs": [],
   "source": [
    "classmates = []\n",
    "for index, row in courses.iterrows():\n",
    "    course_id = row[\"科號\"]\n",
    "    course_file_path = next(path.glob(f\"{course_id}*.csv\"))\n",
    "    classmate = pd.read_csv(course_file_path, encoding=\"utf-8\")\n",
    "    classmate = classmate.assign(**row)\n",
    "    classmates.append(classmate)\n",
    "classmates_df = pd.concat(classmates)\n",
    "classmates_df.to_csv(path / \"classmates.csv\", index=False)\n",
    "classmates_df"
   ]
  }
 ],
 "metadata": {
  "kernelspec": {
   "display_name": "Python 3 (ipykernel)",
   "language": "python",
   "name": "python3"
  },
  "language_info": {
   "codemirror_mode": {
    "name": "ipython",
    "version": 3
   },
   "file_extension": ".py",
   "mimetype": "text/x-python",
   "name": "python",
   "nbconvert_exporter": "python",
   "pygments_lexer": "ipython3",
   "version": "3.12.0"
  }
 },
 "nbformat": 4,
 "nbformat_minor": 5
}
