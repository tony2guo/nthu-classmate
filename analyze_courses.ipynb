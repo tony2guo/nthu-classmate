{
 "cells": [
  {
   "cell_type": "markdown",
   "id": "4da7bbee",
   "metadata": {},
   "source": [
    "# Course"
   ]
  },
  {
   "cell_type": "code",
   "execution_count": null,
   "id": "04c2466e",
   "metadata": {},
   "outputs": [],
   "source": [
    "import calendar\n",
    "from pathlib import Path\n",
    "\n",
    "import pandas as pd\n",
    "import plotly.express as px"
   ]
  },
  {
   "cell_type": "code",
   "execution_count": null,
   "metadata": {},
   "outputs": [],
   "source": [
    "course_code = pd.read_csv(\"course_code.csv\")\n",
    "# course_code"
   ]
  },
  {
   "cell_type": "code",
   "execution_count": null,
   "id": "6d6df9d9",
   "metadata": {},
   "outputs": [],
   "source": [
    "path = Path(\"classmate\")\n",
    "courses = pd.read_csv(path / \"courses.csv\")\n",
    "with pd.option_context(\"display.max_rows\", None):\n",
    "    display(courses)"
   ]
  },
  {
   "cell_type": "code",
   "execution_count": null,
   "id": "c44a9fdd-8794-46ff-b981-7016a4b98f61",
   "metadata": {},
   "outputs": [],
   "source": [
    "courses[[\"學年\", \"學期\", \"開課系所代號\", \"課程代碼\"]] = courses[\"科號\"].str.extract(\n",
    "    r\"(\\d+)(\\d{2})([A-Z]+) ?(\\d+)\", expand=True\n",
    ")\n",
    "courses[[\"課程\", \"Course\"]] = courses[\"課程名稱\"].str.split(n=1, expand=True)\n",
    "courses[\"教師姓名\"] = courses[\"教師\"]\n",
    "matches = courses[\"教師姓名\"].str.extractall(r\"([\\u4e00-\\u9fff]+) ?([A-Z,\\s-]+)?\")\n",
    "matches.loc[matches[0] == \"指導教授\", 1] = \"Advisor\"\n",
    "courses[[\"教師\", \"Instructor\"]] = (\n",
    "    matches.dropna().groupby(level=0).agg(lambda x: \", \".join(x))\n",
    ")\n",
    "courses.loc[courses[\"教師\"].isna(), \"教師\"] = courses[\"教師姓名\"]\n",
    "mapping_dict = course_code.set_index(\"Code\", drop=True).to_dict(orient=\"index\")\n",
    "courses[\"開課系所_info\"] = courses[\"開課系所代號\"].map(mapping_dict)\n",
    "courses[[\"開課系所\", \"Course Offering Department\", \"所屬學院\", \"College\"]] = courses[\n",
    "    \"開課系所_info\"\n",
    "].apply(pd.Series)\n",
    "courses.drop([\"開課系所_info\"], axis=1, inplace=True)\n",
    "# courses"
   ]
  },
  {
   "cell_type": "code",
   "execution_count": null,
   "id": "6beaf9bf-28a7-4e2c-bde5-826ff690b799",
   "metadata": {},
   "outputs": [],
   "source": [
    "days = \"MTWRFS\"\n",
    "periods = \"1234n56789abc\"\n",
    "\n",
    "for day in days:\n",
    "    for period in periods:\n",
    "        day_period = f\"{day}{period}\"\n",
    "        courses[day_period] = courses[\"上課時間\"].str.contains(day_period)\n",
    "# courses"
   ]
  },
  {
   "cell_type": "code",
   "execution_count": null,
   "id": "6e5c8ce6-6bf1-4628-9ed8-33b2a1e0dad9",
   "metadata": {},
   "outputs": [],
   "source": [
    "courses.to_csv(path / \"courses_parsed.csv\", index=False)"
   ]
  },
  {
   "cell_type": "code",
   "execution_count": null,
   "metadata": {},
   "outputs": [],
   "source": [
    "course = \"課程\"\n",
    "# course = \"Course\""
   ]
  },
  {
   "cell_type": "markdown",
   "metadata": {},
   "source": [
    "## Curriculum"
   ]
  },
  {
   "cell_type": "code",
   "execution_count": null,
   "id": "e50a8c18-c1e0-4091-b7c6-4b30786560a7",
   "metadata": {},
   "outputs": [],
   "source": [
    "curriculum = {}\n",
    "for day, day_abbr in zip(days, calendar.day_abbr):\n",
    "    temp = {}\n",
    "    for period in periods:\n",
    "        day_period = f\"{day}{period}\"\n",
    "        courses_day = courses[courses[day_period] == True][course].values\n",
    "        if courses_day.size > 0:\n",
    "            temp[period] = \"\\n\".join(courses_day)\n",
    "        else:\n",
    "            temp[period] = \"\"\n",
    "    curriculum[day_abbr] = temp\n",
    "curriculum_df = pd.DataFrame(curriculum, index=list(periods))\n",
    "curriculum_df.style.set_properties(**{\"white-space\": \"pre-wrap\"})"
   ]
  },
  {
   "cell_type": "code",
   "execution_count": null,
   "id": "f0552155-392e-4def-bf32-17eac65845b1",
   "metadata": {},
   "outputs": [],
   "source": [
    "px.treemap(\n",
    "    courses,\n",
    "    path=[\"學年\", \"學期\", course],\n",
    "    color=\"開課系所\",\n",
    "    hover_name=course,\n",
    "    hover_data=[\"科號\", \"教師\", \"上課時間\"],\n",
    "    title=\"Courses\",\n",
    ").update_traces(marker=dict(cornerradius=5))"
   ]
  },
  {
   "cell_type": "code",
   "execution_count": null,
   "id": "7d303a2f-1456-4dc4-aa18-561cda2b4543",
   "metadata": {},
   "outputs": [],
   "source": [
    "px.bar(\n",
    "    courses,\n",
    "    x=course,\n",
    "    y=\"修課人數\",\n",
    "    color=\"開課系所\",\n",
    "    hover_name=course,\n",
    "    title=\"Enrollment by Course\",\n",
    ")"
   ]
  },
  {
   "cell_type": "code",
   "execution_count": null,
   "id": "2ca89259",
   "metadata": {},
   "outputs": [],
   "source": [
    "courses = courses.sort_values(\"學年\")"
   ]
  },
  {
   "cell_type": "code",
   "execution_count": null,
   "id": "a6e18bad",
   "metadata": {},
   "outputs": [],
   "source": [
    "px.bar(\n",
    "    courses,\n",
    "    x=\"學年\",\n",
    "    color=\"學期\",\n",
    "    hover_name=course,\n",
    "    title=\"Courses by Year and Semester\",\n",
    ").update_layout(yaxis_title=\"修課數\")"
   ]
  },
  {
   "cell_type": "code",
   "execution_count": null,
   "id": "f7e527bc",
   "metadata": {},
   "outputs": [],
   "source": [
    "px.bar(\n",
    "    courses,\n",
    "    x=\"開課系所\",\n",
    "    color=\"學年\",\n",
    "    hover_name=course,\n",
    "    hover_data=\"學期\",\n",
    "    title=\"Courses by Department\",\n",
    ").update_layout(yaxis_title=\"修課數\")"
   ]
  }
 ],
 "metadata": {
  "kernelspec": {
   "display_name": "Python 3 (ipykernel)",
   "language": "python",
   "name": "python3"
  },
  "language_info": {
   "codemirror_mode": {
    "name": "ipython",
    "version": 3
   },
   "file_extension": ".py",
   "mimetype": "text/x-python",
   "name": "python",
   "nbconvert_exporter": "python",
   "pygments_lexer": "ipython3",
   "version": "3.12.0"
  }
 },
 "nbformat": 4,
 "nbformat_minor": 5
}
